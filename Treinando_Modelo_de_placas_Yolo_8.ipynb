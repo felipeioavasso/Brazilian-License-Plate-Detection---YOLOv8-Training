{
  "nbformat": 4,
  "nbformat_minor": 0,
  "metadata": {
    "colab": {
      "provenance": [],
      "gpuType": "T4"
    },
    "kernelspec": {
      "name": "python3",
      "display_name": "Python 3"
    },
    "language_info": {
      "name": "python"
    },
    "accelerator": "GPU"
  },
  "cells": [
    {
      "cell_type": "markdown",
      "source": [
        "# Instalando o Ultralytics"
      ],
      "metadata": {
        "id": "9Y4BNu5ci3Oo"
      }
    },
    {
      "cell_type": "code",
      "source": [
        "!pip install ultralytics"
      ],
      "metadata": {
        "id": "vi2LJBg6k1Do"
      },
      "execution_count": null,
      "outputs": []
    },
    {
      "cell_type": "markdown",
      "source": [
        "# Importando bibliotecas"
      ],
      "metadata": {
        "id": "cdmltf-njAuf"
      }
    },
    {
      "cell_type": "code",
      "source": [
        "import os  # Biblioteca para manipulação de diretórios e arquivos\n",
        "import zipfile  # Biblioteca para manipulação de arquivos ZIP\n",
        "import shutil  # Biblioteca para operações de arquivos e diretórios\n",
        "\n",
        "from google.colab import drive  # Para montar o Google Drive e salvar arquivos\n",
        "from google.colab import files  # Para upload e download de arquivos no Google Colab\n",
        "from ultralytics import YOLO  # Importa a biblioteca YOLO para detecção de objetos"
      ],
      "metadata": {
        "id": "X-UMiFMzlrM-"
      },
      "execution_count": null,
      "outputs": []
    },
    {
      "cell_type": "markdown",
      "source": [
        "# Carregando Arquivo"
      ],
      "metadata": {
        "id": "m9__qT75jIrp"
      }
    },
    {
      "cell_type": "code",
      "source": [
        "#uploaded = files.upload()  # Abre uma janela para escolher o arquivo"
      ],
      "metadata": {
        "id": "k_iyEYtVjHVD"
      },
      "execution_count": null,
      "outputs": []
    },
    {
      "cell_type": "code",
      "source": [
        "# Nome do arquivo ZIP (ajuste conforme necessário)\n",
        "zip_path = \"/content/Placas Brasil.v1i.yolov8.zip\"\n",
        "\n",
        "# Pasta de destino\n",
        "extract_path = \"/content/dataset\""
      ],
      "metadata": {
        "id": "bG2OFouijYEG"
      },
      "execution_count": null,
      "outputs": []
    },
    {
      "cell_type": "markdown",
      "source": [
        "# Extraindo os arquivos"
      ],
      "metadata": {
        "id": "MQBG_9kJjRoa"
      }
    },
    {
      "cell_type": "code",
      "source": [
        "# Extraindo os arquivos\n",
        "with zipfile.ZipFile(zip_path, 'r') as zip_ref:\n",
        "    zip_ref.extractall(extract_path)\n",
        "\n",
        "# Listando os arquivos extraídos\n",
        "os.listdir(extract_path)"
      ],
      "metadata": {
        "id": "VOquDMrgjT0N"
      },
      "execution_count": null,
      "outputs": []
    },
    {
      "cell_type": "markdown",
      "source": [
        "# Exibe o conteúdo do arquivo"
      ],
      "metadata": {
        "id": "UVWAst0LjcC9"
      }
    },
    {
      "cell_type": "code",
      "source": [
        "yaml_path = \"/content/dataset/data.yaml\"\n",
        "\n",
        "with open(yaml_path, \"r\") as f:\n",
        "    print(f.read())  # Exibe o conteúdo do arquivo\n"
      ],
      "metadata": {
        "id": "BI6599lOk7Dn"
      },
      "execution_count": null,
      "outputs": []
    },
    {
      "cell_type": "markdown",
      "source": [
        "# Carregando o Yolo 8 e Treinando"
      ],
      "metadata": {
        "id": "5ddpIBYajkaH"
      }
    },
    {
      "cell_type": "code",
      "source": [
        "# Carrega o modelo base YOLOv8n\n",
        "model = YOLO(\"yolov8n.pt\")\n",
        "\n",
        "# Treina por 20 épocas e salva checkpoints a cada 5 épocas\n",
        "model.train(data=\"/content/dataset/data.yaml\", epochs=50, imgsz=640, save_period=5)\n"
      ],
      "metadata": {
        "id": "96ZdyZ41jqe_"
      },
      "execution_count": null,
      "outputs": []
    },
    {
      "cell_type": "markdown",
      "source": [
        "# Avaliar o modelo"
      ],
      "metadata": {
        "id": "Aq8ZwaY6DwyP"
      }
    },
    {
      "cell_type": "code",
      "source": [
        "import glob\n",
        "from IPython.display import display\n",
        "from PIL import Image\n",
        "\n",
        "# Listar imagens geradas pelo YOLOv8\n",
        "result_images = glob.glob(\"/content/runs/detect/train/*.png\")\n",
        "\n",
        "# Exibir os gráficos do treinamento\n",
        "for img_path in result_images:\n",
        "    display(Image.open(img_path))"
      ],
      "metadata": {
        "id": "DZw4BtInkVvJ"
      },
      "execution_count": null,
      "outputs": []
    },
    {
      "cell_type": "markdown",
      "source": [
        "# Download do Modelo"
      ],
      "metadata": {
        "id": "U2lPr2yfIoBR"
      }
    },
    {
      "cell_type": "code",
      "source": [
        "# Baixar o modelo treinado\n",
        "files.download(\"/content/runs/detect/train/weights/best.pt\")\n"
      ],
      "metadata": {
        "id": "Q9hW5iPOItQI"
      },
      "execution_count": null,
      "outputs": []
    },
    {
      "cell_type": "markdown",
      "source": [
        "# Salvar progresso no Drive"
      ],
      "metadata": {
        "id": "S_Jb3X-wDxpw"
      }
    },
    {
      "cell_type": "code",
      "source": [
        "# Montar o Google Drive\n",
        "drive.mount('/content/drive')\n",
        "\n",
        "# Caminho do modelo treinado e destino no Google Drive\n",
        "modelo_treinado = \"/content/runs/detect/train/weights/last.pt\"\n",
        "destino_drive = \"/content/drive/MyDrive/last_50_epochs.pt\"\n",
        "\n",
        "# Copiar usando shutil\n",
        "shutil.copy(modelo_treinado, destino_drive)\n",
        "print(\"✅ Modelo salvo no Google Drive com sucesso!\")\n"
      ],
      "metadata": {
        "id": "UoKirw6pvXT7"
      },
      "execution_count": null,
      "outputs": []
    },
    {
      "cell_type": "markdown",
      "source": [
        "# Teste do modelo treinado"
      ],
      "metadata": {
        "id": "qAYiCdiJkxOm"
      }
    },
    {
      "cell_type": "code",
      "source": [
        "# Carregar o modelo salvo e testar com uma imagem\n",
        "model = YOLO(\"/content/runs/detect/train/weights/last.pt\")\n",
        "results = model(\"placa01.jpg\", save=True)\n"
      ],
      "metadata": {
        "id": "TBPMI_UH0Z01"
      },
      "execution_count": null,
      "outputs": []
    }
  ]
}